{
  "nbformat": 4,
  "nbformat_minor": 0,
  "metadata": {
    "colab": {
      "provenance": [],
      "include_colab_link": true
    },
    "kernelspec": {
      "name": "python3",
      "display_name": "Python 3"
    },
    "language_info": {
      "name": "python"
    }
  },
  "cells": [
    {
      "cell_type": "markdown",
      "metadata": {
        "id": "view-in-github",
        "colab_type": "text"
      },
      "source": [
        "<a href=\"https://colab.research.google.com/github/sruthisharma88/Insurance_claims_fraud_detection/blob/main/Insurance_Claims_Fraud_Detection.ipynb\" target=\"_parent\"><img src=\"https://colab.research.google.com/assets/colab-badge.svg\" alt=\"Open In Colab\"/></a>"
      ]
    },
    {
      "cell_type": "code",
      "execution_count": null,
      "metadata": {
        "colab": {
          "base_uri": "https://localhost:8080/"
        },
        "id": "KS5tNTp-HEkw",
        "outputId": "4b8d0c69-942a-47d5-c8e3-789a8da57270"
      },
      "outputs": [
        {
          "output_type": "stream",
          "name": "stdout",
          "text": [
            "Warning: Looks like you're using an outdated `kagglehub` version (installed: 0.3.12), please consider upgrading to the latest version (0.3.13).\n",
            "Downloading from https://www.kaggle.com/api/v1/datasets/download/shivamb/vehicle-claim-fraud-detection?dataset_version_number=1...\n"
          ]
        },
        {
          "output_type": "stream",
          "name": "stderr",
          "text": [
            "100%|██████████| 348k/348k [00:00<00:00, 72.2MB/s]"
          ]
        },
        {
          "output_type": "stream",
          "name": "stdout",
          "text": [
            "Extracting files...\n",
            "Path to dataset files: /root/.cache/kagglehub/datasets/shivamb/vehicle-claim-fraud-detection/versions/1\n"
          ]
        },
        {
          "output_type": "stream",
          "name": "stderr",
          "text": [
            "\n"
          ]
        }
      ],
      "source": [
        "import kagglehub\n",
        "\n",
        "# Download latest version\n",
        "path = kagglehub.dataset_download(\"shivamb/vehicle-claim-fraud-detection\")\n",
        "\n",
        "print(\"Path to dataset files:\", path)"
      ]
    },
    {
      "cell_type": "code",
      "source": [
        "import warnings\n",
        "warnings.filterwarnings('ignore')\n",
        "\n",
        "# Libraries\n",
        "import numpy as np\n",
        "import pandas as pd\n",
        "import matplotlib.pyplot as plt\n",
        "import seaborn as sns"
      ],
      "metadata": {
        "id": "kECGuwgaH4NO"
      },
      "execution_count": null,
      "outputs": []
    },
    {
      "cell_type": "code",
      "source": [
        "fraud_df = pd.read_csv(path + '/fraud_oracle.csv')\n",
        "print(\"Dimension of data frame:\", fraud_df.shape)\n",
        "fraud_df.head()"
      ],
      "metadata": {
        "colab": {
          "base_uri": "https://localhost:8080/",
          "height": 273
        },
        "id": "okNxUTX4IKVo",
        "outputId": "e4524eba-acc4-4792-f1f1-d1a07d67d2b0"
      },
      "execution_count": null,
      "outputs": [
        {
          "output_type": "stream",
          "name": "stdout",
          "text": [
            "Dimension of data frame: (15420, 33)\n"
          ]
        },
        {
          "output_type": "execute_result",
          "data": {
            "text/plain": [
              "  Month  WeekOfMonth  DayOfWeek    Make AccidentArea DayOfWeekClaimed  \\\n",
              "0   Dec            5  Wednesday   Honda        Urban          Tuesday   \n",
              "1   Jan            3  Wednesday   Honda        Urban           Monday   \n",
              "2   Oct            5     Friday   Honda        Urban         Thursday   \n",
              "3   Jun            2   Saturday  Toyota        Rural           Friday   \n",
              "4   Jan            5     Monday   Honda        Urban          Tuesday   \n",
              "\n",
              "  MonthClaimed  WeekOfMonthClaimed     Sex MaritalStatus  ...  AgeOfVehicle  \\\n",
              "0          Jan                   1  Female        Single  ...       3 years   \n",
              "1          Jan                   4    Male        Single  ...       6 years   \n",
              "2          Nov                   2    Male       Married  ...       7 years   \n",
              "3          Jul                   1    Male       Married  ...   more than 7   \n",
              "4          Feb                   2  Female        Single  ...       5 years   \n",
              "\n",
              "  AgeOfPolicyHolder PoliceReportFiled WitnessPresent AgentType  \\\n",
              "0          26 to 30                No             No  External   \n",
              "1          31 to 35               Yes             No  External   \n",
              "2          41 to 50                No             No  External   \n",
              "3          51 to 65               Yes             No  External   \n",
              "4          31 to 35                No             No  External   \n",
              "\n",
              "   NumberOfSuppliments  AddressChange_Claim  NumberOfCars  Year  BasePolicy  \n",
              "0                 none               1 year        3 to 4  1994   Liability  \n",
              "1                 none            no change     1 vehicle  1994   Collision  \n",
              "2                 none            no change     1 vehicle  1994   Collision  \n",
              "3          more than 5            no change     1 vehicle  1994   Liability  \n",
              "4                 none            no change     1 vehicle  1994   Collision  \n",
              "\n",
              "[5 rows x 33 columns]"
            ],
            "text/html": [
              "\n",
              "  <div id=\"df-5e2db4bc-6312-497d-87b6-807dc0ba0a41\" class=\"colab-df-container\">\n",
              "    <div>\n",
              "<style scoped>\n",
              "    .dataframe tbody tr th:only-of-type {\n",
              "        vertical-align: middle;\n",
              "    }\n",
              "\n",
              "    .dataframe tbody tr th {\n",
              "        vertical-align: top;\n",
              "    }\n",
              "\n",
              "    .dataframe thead th {\n",
              "        text-align: right;\n",
              "    }\n",
              "</style>\n",
              "<table border=\"1\" class=\"dataframe\">\n",
              "  <thead>\n",
              "    <tr style=\"text-align: right;\">\n",
              "      <th></th>\n",
              "      <th>Month</th>\n",
              "      <th>WeekOfMonth</th>\n",
              "      <th>DayOfWeek</th>\n",
              "      <th>Make</th>\n",
              "      <th>AccidentArea</th>\n",
              "      <th>DayOfWeekClaimed</th>\n",
              "      <th>MonthClaimed</th>\n",
              "      <th>WeekOfMonthClaimed</th>\n",
              "      <th>Sex</th>\n",
              "      <th>MaritalStatus</th>\n",
              "      <th>...</th>\n",
              "      <th>AgeOfVehicle</th>\n",
              "      <th>AgeOfPolicyHolder</th>\n",
              "      <th>PoliceReportFiled</th>\n",
              "      <th>WitnessPresent</th>\n",
              "      <th>AgentType</th>\n",
              "      <th>NumberOfSuppliments</th>\n",
              "      <th>AddressChange_Claim</th>\n",
              "      <th>NumberOfCars</th>\n",
              "      <th>Year</th>\n",
              "      <th>BasePolicy</th>\n",
              "    </tr>\n",
              "  </thead>\n",
              "  <tbody>\n",
              "    <tr>\n",
              "      <th>0</th>\n",
              "      <td>Dec</td>\n",
              "      <td>5</td>\n",
              "      <td>Wednesday</td>\n",
              "      <td>Honda</td>\n",
              "      <td>Urban</td>\n",
              "      <td>Tuesday</td>\n",
              "      <td>Jan</td>\n",
              "      <td>1</td>\n",
              "      <td>Female</td>\n",
              "      <td>Single</td>\n",
              "      <td>...</td>\n",
              "      <td>3 years</td>\n",
              "      <td>26 to 30</td>\n",
              "      <td>No</td>\n",
              "      <td>No</td>\n",
              "      <td>External</td>\n",
              "      <td>none</td>\n",
              "      <td>1 year</td>\n",
              "      <td>3 to 4</td>\n",
              "      <td>1994</td>\n",
              "      <td>Liability</td>\n",
              "    </tr>\n",
              "    <tr>\n",
              "      <th>1</th>\n",
              "      <td>Jan</td>\n",
              "      <td>3</td>\n",
              "      <td>Wednesday</td>\n",
              "      <td>Honda</td>\n",
              "      <td>Urban</td>\n",
              "      <td>Monday</td>\n",
              "      <td>Jan</td>\n",
              "      <td>4</td>\n",
              "      <td>Male</td>\n",
              "      <td>Single</td>\n",
              "      <td>...</td>\n",
              "      <td>6 years</td>\n",
              "      <td>31 to 35</td>\n",
              "      <td>Yes</td>\n",
              "      <td>No</td>\n",
              "      <td>External</td>\n",
              "      <td>none</td>\n",
              "      <td>no change</td>\n",
              "      <td>1 vehicle</td>\n",
              "      <td>1994</td>\n",
              "      <td>Collision</td>\n",
              "    </tr>\n",
              "    <tr>\n",
              "      <th>2</th>\n",
              "      <td>Oct</td>\n",
              "      <td>5</td>\n",
              "      <td>Friday</td>\n",
              "      <td>Honda</td>\n",
              "      <td>Urban</td>\n",
              "      <td>Thursday</td>\n",
              "      <td>Nov</td>\n",
              "      <td>2</td>\n",
              "      <td>Male</td>\n",
              "      <td>Married</td>\n",
              "      <td>...</td>\n",
              "      <td>7 years</td>\n",
              "      <td>41 to 50</td>\n",
              "      <td>No</td>\n",
              "      <td>No</td>\n",
              "      <td>External</td>\n",
              "      <td>none</td>\n",
              "      <td>no change</td>\n",
              "      <td>1 vehicle</td>\n",
              "      <td>1994</td>\n",
              "      <td>Collision</td>\n",
              "    </tr>\n",
              "    <tr>\n",
              "      <th>3</th>\n",
              "      <td>Jun</td>\n",
              "      <td>2</td>\n",
              "      <td>Saturday</td>\n",
              "      <td>Toyota</td>\n",
              "      <td>Rural</td>\n",
              "      <td>Friday</td>\n",
              "      <td>Jul</td>\n",
              "      <td>1</td>\n",
              "      <td>Male</td>\n",
              "      <td>Married</td>\n",
              "      <td>...</td>\n",
              "      <td>more than 7</td>\n",
              "      <td>51 to 65</td>\n",
              "      <td>Yes</td>\n",
              "      <td>No</td>\n",
              "      <td>External</td>\n",
              "      <td>more than 5</td>\n",
              "      <td>no change</td>\n",
              "      <td>1 vehicle</td>\n",
              "      <td>1994</td>\n",
              "      <td>Liability</td>\n",
              "    </tr>\n",
              "    <tr>\n",
              "      <th>4</th>\n",
              "      <td>Jan</td>\n",
              "      <td>5</td>\n",
              "      <td>Monday</td>\n",
              "      <td>Honda</td>\n",
              "      <td>Urban</td>\n",
              "      <td>Tuesday</td>\n",
              "      <td>Feb</td>\n",
              "      <td>2</td>\n",
              "      <td>Female</td>\n",
              "      <td>Single</td>\n",
              "      <td>...</td>\n",
              "      <td>5 years</td>\n",
              "      <td>31 to 35</td>\n",
              "      <td>No</td>\n",
              "      <td>No</td>\n",
              "      <td>External</td>\n",
              "      <td>none</td>\n",
              "      <td>no change</td>\n",
              "      <td>1 vehicle</td>\n",
              "      <td>1994</td>\n",
              "      <td>Collision</td>\n",
              "    </tr>\n",
              "  </tbody>\n",
              "</table>\n",
              "<p>5 rows × 33 columns</p>\n",
              "</div>\n",
              "    <div class=\"colab-df-buttons\">\n",
              "\n",
              "  <div class=\"colab-df-container\">\n",
              "    <button class=\"colab-df-convert\" onclick=\"convertToInteractive('df-5e2db4bc-6312-497d-87b6-807dc0ba0a41')\"\n",
              "            title=\"Convert this dataframe to an interactive table.\"\n",
              "            style=\"display:none;\">\n",
              "\n",
              "  <svg xmlns=\"http://www.w3.org/2000/svg\" height=\"24px\" viewBox=\"0 -960 960 960\">\n",
              "    <path d=\"M120-120v-720h720v720H120Zm60-500h600v-160H180v160Zm220 220h160v-160H400v160Zm0 220h160v-160H400v160ZM180-400h160v-160H180v160Zm440 0h160v-160H620v160ZM180-180h160v-160H180v160Zm440 0h160v-160H620v160Z\"/>\n",
              "  </svg>\n",
              "    </button>\n",
              "\n",
              "  <style>\n",
              "    .colab-df-container {\n",
              "      display:flex;\n",
              "      gap: 12px;\n",
              "    }\n",
              "\n",
              "    .colab-df-convert {\n",
              "      background-color: #E8F0FE;\n",
              "      border: none;\n",
              "      border-radius: 50%;\n",
              "      cursor: pointer;\n",
              "      display: none;\n",
              "      fill: #1967D2;\n",
              "      height: 32px;\n",
              "      padding: 0 0 0 0;\n",
              "      width: 32px;\n",
              "    }\n",
              "\n",
              "    .colab-df-convert:hover {\n",
              "      background-color: #E2EBFA;\n",
              "      box-shadow: 0px 1px 2px rgba(60, 64, 67, 0.3), 0px 1px 3px 1px rgba(60, 64, 67, 0.15);\n",
              "      fill: #174EA6;\n",
              "    }\n",
              "\n",
              "    .colab-df-buttons div {\n",
              "      margin-bottom: 4px;\n",
              "    }\n",
              "\n",
              "    [theme=dark] .colab-df-convert {\n",
              "      background-color: #3B4455;\n",
              "      fill: #D2E3FC;\n",
              "    }\n",
              "\n",
              "    [theme=dark] .colab-df-convert:hover {\n",
              "      background-color: #434B5C;\n",
              "      box-shadow: 0px 1px 3px 1px rgba(0, 0, 0, 0.15);\n",
              "      filter: drop-shadow(0px 1px 2px rgba(0, 0, 0, 0.3));\n",
              "      fill: #FFFFFF;\n",
              "    }\n",
              "  </style>\n",
              "\n",
              "    <script>\n",
              "      const buttonEl =\n",
              "        document.querySelector('#df-5e2db4bc-6312-497d-87b6-807dc0ba0a41 button.colab-df-convert');\n",
              "      buttonEl.style.display =\n",
              "        google.colab.kernel.accessAllowed ? 'block' : 'none';\n",
              "\n",
              "      async function convertToInteractive(key) {\n",
              "        const element = document.querySelector('#df-5e2db4bc-6312-497d-87b6-807dc0ba0a41');\n",
              "        const dataTable =\n",
              "          await google.colab.kernel.invokeFunction('convertToInteractive',\n",
              "                                                    [key], {});\n",
              "        if (!dataTable) return;\n",
              "\n",
              "        const docLinkHtml = 'Like what you see? Visit the ' +\n",
              "          '<a target=\"_blank\" href=https://colab.research.google.com/notebooks/data_table.ipynb>data table notebook</a>'\n",
              "          + ' to learn more about interactive tables.';\n",
              "        element.innerHTML = '';\n",
              "        dataTable['output_type'] = 'display_data';\n",
              "        await google.colab.output.renderOutput(dataTable, element);\n",
              "        const docLink = document.createElement('div');\n",
              "        docLink.innerHTML = docLinkHtml;\n",
              "        element.appendChild(docLink);\n",
              "      }\n",
              "    </script>\n",
              "  </div>\n",
              "\n",
              "\n",
              "    <div id=\"df-fc95af07-0536-4886-a3f2-30c1fa1e7886\">\n",
              "      <button class=\"colab-df-quickchart\" onclick=\"quickchart('df-fc95af07-0536-4886-a3f2-30c1fa1e7886')\"\n",
              "                title=\"Suggest charts\"\n",
              "                style=\"display:none;\">\n",
              "\n",
              "<svg xmlns=\"http://www.w3.org/2000/svg\" height=\"24px\"viewBox=\"0 0 24 24\"\n",
              "     width=\"24px\">\n",
              "    <g>\n",
              "        <path d=\"M19 3H5c-1.1 0-2 .9-2 2v14c0 1.1.9 2 2 2h14c1.1 0 2-.9 2-2V5c0-1.1-.9-2-2-2zM9 17H7v-7h2v7zm4 0h-2V7h2v10zm4 0h-2v-4h2v4z\"/>\n",
              "    </g>\n",
              "</svg>\n",
              "      </button>\n",
              "\n",
              "<style>\n",
              "  .colab-df-quickchart {\n",
              "      --bg-color: #E8F0FE;\n",
              "      --fill-color: #1967D2;\n",
              "      --hover-bg-color: #E2EBFA;\n",
              "      --hover-fill-color: #174EA6;\n",
              "      --disabled-fill-color: #AAA;\n",
              "      --disabled-bg-color: #DDD;\n",
              "  }\n",
              "\n",
              "  [theme=dark] .colab-df-quickchart {\n",
              "      --bg-color: #3B4455;\n",
              "      --fill-color: #D2E3FC;\n",
              "      --hover-bg-color: #434B5C;\n",
              "      --hover-fill-color: #FFFFFF;\n",
              "      --disabled-bg-color: #3B4455;\n",
              "      --disabled-fill-color: #666;\n",
              "  }\n",
              "\n",
              "  .colab-df-quickchart {\n",
              "    background-color: var(--bg-color);\n",
              "    border: none;\n",
              "    border-radius: 50%;\n",
              "    cursor: pointer;\n",
              "    display: none;\n",
              "    fill: var(--fill-color);\n",
              "    height: 32px;\n",
              "    padding: 0;\n",
              "    width: 32px;\n",
              "  }\n",
              "\n",
              "  .colab-df-quickchart:hover {\n",
              "    background-color: var(--hover-bg-color);\n",
              "    box-shadow: 0 1px 2px rgba(60, 64, 67, 0.3), 0 1px 3px 1px rgba(60, 64, 67, 0.15);\n",
              "    fill: var(--button-hover-fill-color);\n",
              "  }\n",
              "\n",
              "  .colab-df-quickchart-complete:disabled,\n",
              "  .colab-df-quickchart-complete:disabled:hover {\n",
              "    background-color: var(--disabled-bg-color);\n",
              "    fill: var(--disabled-fill-color);\n",
              "    box-shadow: none;\n",
              "  }\n",
              "\n",
              "  .colab-df-spinner {\n",
              "    border: 2px solid var(--fill-color);\n",
              "    border-color: transparent;\n",
              "    border-bottom-color: var(--fill-color);\n",
              "    animation:\n",
              "      spin 1s steps(1) infinite;\n",
              "  }\n",
              "\n",
              "  @keyframes spin {\n",
              "    0% {\n",
              "      border-color: transparent;\n",
              "      border-bottom-color: var(--fill-color);\n",
              "      border-left-color: var(--fill-color);\n",
              "    }\n",
              "    20% {\n",
              "      border-color: transparent;\n",
              "      border-left-color: var(--fill-color);\n",
              "      border-top-color: var(--fill-color);\n",
              "    }\n",
              "    30% {\n",
              "      border-color: transparent;\n",
              "      border-left-color: var(--fill-color);\n",
              "      border-top-color: var(--fill-color);\n",
              "      border-right-color: var(--fill-color);\n",
              "    }\n",
              "    40% {\n",
              "      border-color: transparent;\n",
              "      border-right-color: var(--fill-color);\n",
              "      border-top-color: var(--fill-color);\n",
              "    }\n",
              "    60% {\n",
              "      border-color: transparent;\n",
              "      border-right-color: var(--fill-color);\n",
              "    }\n",
              "    80% {\n",
              "      border-color: transparent;\n",
              "      border-right-color: var(--fill-color);\n",
              "      border-bottom-color: var(--fill-color);\n",
              "    }\n",
              "    90% {\n",
              "      border-color: transparent;\n",
              "      border-bottom-color: var(--fill-color);\n",
              "    }\n",
              "  }\n",
              "</style>\n",
              "\n",
              "      <script>\n",
              "        async function quickchart(key) {\n",
              "          const quickchartButtonEl =\n",
              "            document.querySelector('#' + key + ' button');\n",
              "          quickchartButtonEl.disabled = true;  // To prevent multiple clicks.\n",
              "          quickchartButtonEl.classList.add('colab-df-spinner');\n",
              "          try {\n",
              "            const charts = await google.colab.kernel.invokeFunction(\n",
              "                'suggestCharts', [key], {});\n",
              "          } catch (error) {\n",
              "            console.error('Error during call to suggestCharts:', error);\n",
              "          }\n",
              "          quickchartButtonEl.classList.remove('colab-df-spinner');\n",
              "          quickchartButtonEl.classList.add('colab-df-quickchart-complete');\n",
              "        }\n",
              "        (() => {\n",
              "          let quickchartButtonEl =\n",
              "            document.querySelector('#df-fc95af07-0536-4886-a3f2-30c1fa1e7886 button');\n",
              "          quickchartButtonEl.style.display =\n",
              "            google.colab.kernel.accessAllowed ? 'block' : 'none';\n",
              "        })();\n",
              "      </script>\n",
              "    </div>\n",
              "\n",
              "    </div>\n",
              "  </div>\n"
            ],
            "application/vnd.google.colaboratory.intrinsic+json": {
              "type": "dataframe",
              "variable_name": "fraud_df"
            }
          },
          "metadata": {},
          "execution_count": 3
        }
      ]
    },
    {
      "cell_type": "code",
      "source": [
        "fraud_df.info()"
      ],
      "metadata": {
        "colab": {
          "base_uri": "https://localhost:8080/"
        },
        "id": "8D3INmmrItL8",
        "outputId": "675f08e9-2115-4c6e-83f5-2a5696cccb92"
      },
      "execution_count": null,
      "outputs": [
        {
          "output_type": "stream",
          "name": "stdout",
          "text": [
            "<class 'pandas.core.frame.DataFrame'>\n",
            "RangeIndex: 15420 entries, 0 to 15419\n",
            "Data columns (total 33 columns):\n",
            " #   Column                Non-Null Count  Dtype \n",
            "---  ------                --------------  ----- \n",
            " 0   Month                 15420 non-null  object\n",
            " 1   WeekOfMonth           15420 non-null  int64 \n",
            " 2   DayOfWeek             15420 non-null  object\n",
            " 3   Make                  15420 non-null  object\n",
            " 4   AccidentArea          15420 non-null  object\n",
            " 5   DayOfWeekClaimed      15420 non-null  object\n",
            " 6   MonthClaimed          15420 non-null  object\n",
            " 7   WeekOfMonthClaimed    15420 non-null  int64 \n",
            " 8   Sex                   15420 non-null  object\n",
            " 9   MaritalStatus         15420 non-null  object\n",
            " 10  Age                   15420 non-null  int64 \n",
            " 11  Fault                 15420 non-null  object\n",
            " 12  PolicyType            15420 non-null  object\n",
            " 13  VehicleCategory       15420 non-null  object\n",
            " 14  VehiclePrice          15420 non-null  object\n",
            " 15  FraudFound_P          15420 non-null  int64 \n",
            " 16  PolicyNumber          15420 non-null  int64 \n",
            " 17  RepNumber             15420 non-null  int64 \n",
            " 18  Deductible            15420 non-null  int64 \n",
            " 19  DriverRating          15420 non-null  int64 \n",
            " 20  Days_Policy_Accident  15420 non-null  object\n",
            " 21  Days_Policy_Claim     15420 non-null  object\n",
            " 22  PastNumberOfClaims    15420 non-null  object\n",
            " 23  AgeOfVehicle          15420 non-null  object\n",
            " 24  AgeOfPolicyHolder     15420 non-null  object\n",
            " 25  PoliceReportFiled     15420 non-null  object\n",
            " 26  WitnessPresent        15420 non-null  object\n",
            " 27  AgentType             15420 non-null  object\n",
            " 28  NumberOfSuppliments   15420 non-null  object\n",
            " 29  AddressChange_Claim   15420 non-null  object\n",
            " 30  NumberOfCars          15420 non-null  object\n",
            " 31  Year                  15420 non-null  int64 \n",
            " 32  BasePolicy            15420 non-null  object\n",
            "dtypes: int64(9), object(24)\n",
            "memory usage: 3.9+ MB\n"
          ]
        }
      ]
    },
    {
      "cell_type": "code",
      "source": [
        "import pandas as pd\n",
        "from sqlalchemy import create_engine\n",
        "\n",
        "# Load dataset\n",
        "df = pd.read_csv(path + '/fraud_oracle.csv')\n",
        "\n",
        "# Quick cleaning: Convert categorical 'object' columns where needed\n",
        "# For example: Convert blank strings to NaN if any\n",
        "df.replace(\"?\", pd.NA, inplace=True)\n",
        "\n",
        "# Remove duplicates if needed\n",
        "df.drop_duplicates(inplace=True)\n",
        "\n",
        "# Print basic info\n",
        "print(df.info())\n"
      ],
      "metadata": {
        "colab": {
          "base_uri": "https://localhost:8080/"
        },
        "id": "VQRrtAZGLMNY",
        "outputId": "45aaf73a-c314-48b4-8f00-0fd318145611"
      },
      "execution_count": null,
      "outputs": [
        {
          "output_type": "stream",
          "name": "stdout",
          "text": [
            "<class 'pandas.core.frame.DataFrame'>\n",
            "RangeIndex: 15420 entries, 0 to 15419\n",
            "Data columns (total 33 columns):\n",
            " #   Column                Non-Null Count  Dtype \n",
            "---  ------                --------------  ----- \n",
            " 0   Month                 15420 non-null  object\n",
            " 1   WeekOfMonth           15420 non-null  int64 \n",
            " 2   DayOfWeek             15420 non-null  object\n",
            " 3   Make                  15420 non-null  object\n",
            " 4   AccidentArea          15420 non-null  object\n",
            " 5   DayOfWeekClaimed      15420 non-null  object\n",
            " 6   MonthClaimed          15420 non-null  object\n",
            " 7   WeekOfMonthClaimed    15420 non-null  int64 \n",
            " 8   Sex                   15420 non-null  object\n",
            " 9   MaritalStatus         15420 non-null  object\n",
            " 10  Age                   15420 non-null  int64 \n",
            " 11  Fault                 15420 non-null  object\n",
            " 12  PolicyType            15420 non-null  object\n",
            " 13  VehicleCategory       15420 non-null  object\n",
            " 14  VehiclePrice          15420 non-null  object\n",
            " 15  FraudFound_P          15420 non-null  int64 \n",
            " 16  PolicyNumber          15420 non-null  int64 \n",
            " 17  RepNumber             15420 non-null  int64 \n",
            " 18  Deductible            15420 non-null  int64 \n",
            " 19  DriverRating          15420 non-null  int64 \n",
            " 20  Days_Policy_Accident  15420 non-null  object\n",
            " 21  Days_Policy_Claim     15420 non-null  object\n",
            " 22  PastNumberOfClaims    15420 non-null  object\n",
            " 23  AgeOfVehicle          15420 non-null  object\n",
            " 24  AgeOfPolicyHolder     15420 non-null  object\n",
            " 25  PoliceReportFiled     15420 non-null  object\n",
            " 26  WitnessPresent        15420 non-null  object\n",
            " 27  AgentType             15420 non-null  object\n",
            " 28  NumberOfSuppliments   15420 non-null  object\n",
            " 29  AddressChange_Claim   15420 non-null  object\n",
            " 30  NumberOfCars          15420 non-null  object\n",
            " 31  Year                  15420 non-null  int64 \n",
            " 32  BasePolicy            15420 non-null  object\n",
            "dtypes: int64(9), object(24)\n",
            "memory usage: 3.9+ MB\n",
            "None\n"
          ]
        }
      ]
    },
    {
      "cell_type": "code",
      "source": [
        "# Create SQLite DB (or change to PostgreSQL/MySQL connection string)\n",
        "engine = create_engine(\"sqlite:///fraud_detection.db\")\n",
        "\n",
        "# Save dataframe into SQL\n",
        "df.to_sql(\"fraud_claims\", engine, index=False, if_exists=\"replace\")\n"
      ],
      "metadata": {
        "colab": {
          "base_uri": "https://localhost:8080/"
        },
        "id": "MHBxK-HaLyvI",
        "outputId": "4d892015-a37d-40da-da31-7d65c4863eae"
      },
      "execution_count": null,
      "outputs": [
        {
          "output_type": "execute_result",
          "data": {
            "text/plain": [
              "15420"
            ]
          },
          "metadata": {},
          "execution_count": 6
        }
      ]
    },
    {
      "cell_type": "code",
      "source": [
        "# Example: Fraud rate summary\n",
        "query = \"\"\"\n",
        "SELECT\n",
        "    COUNT(*) AS total_claims,\n",
        "    SUM(FraudFound_P) AS fraud_claims,\n",
        "    ROUND(SUM(FraudFound_P) * 100.0 / COUNT(*), 2) AS fraud_rate\n",
        "FROM fraud_claims;\n",
        "\"\"\"\n",
        "\n",
        "summary_df = pd.read_sql_query(query, engine)\n",
        "print(summary_df)\n"
      ],
      "metadata": {
        "colab": {
          "base_uri": "https://localhost:8080/"
        },
        "id": "CTMng5ujL8wD",
        "outputId": "4c52c281-0501-447e-abc7-b373f0692aba"
      },
      "execution_count": null,
      "outputs": [
        {
          "output_type": "stream",
          "name": "stdout",
          "text": [
            "   total_claims  fraud_claims  fraud_rate\n",
            "0         15420           923        5.99\n"
          ]
        }
      ]
    },
    {
      "cell_type": "code",
      "source": [
        "vehicle_category_query = \"\"\"\n",
        "SELECT VehicleCategory,\n",
        "       COUNT(*) AS total,\n",
        "       SUM(FraudFound_P) AS frauds,\n",
        "       ROUND(SUM(FraudFound_P) * 100.0 / COUNT(*), 2) AS fraud_rate\n",
        "FROM fraud_claims\n",
        "GROUP BY VehicleCategory\n",
        "ORDER BY fraud_rate DESC;\n",
        "\"\"\"\n",
        "\n",
        "# Now run it using pandas + your database engine\n",
        "vehicle_category_df = pd.read_sql_query(vehicle_category_query, engine)\n",
        "print(vehicle_category_df)\n",
        "\n"
      ],
      "metadata": {
        "colab": {
          "base_uri": "https://localhost:8080/"
        },
        "id": "ovJsd0VZMNfi",
        "outputId": "ed315f2a-aa75-4d18-c68f-5e5094d62f63"
      },
      "execution_count": null,
      "outputs": [
        {
          "output_type": "stream",
          "name": "stdout",
          "text": [
            "  VehicleCategory  total  frauds  fraud_rate\n",
            "0         Utility    391      44       11.25\n",
            "1           Sedan   9671     795        8.22\n",
            "2           Sport   5358      84        1.57\n"
          ]
        }
      ]
    },
    {
      "cell_type": "code",
      "source": [
        "import matplotlib.pyplot as plt\n",
        "import seaborn as sns\n",
        "\n",
        "sns.countplot(x='FraudFound_P', data=df)\n",
        "plt.title('Fraud vs Legitimate Claims Count')\n",
        "plt.xlabel('Fraud Found (0=No, 1=Yes)')\n",
        "plt.ylabel('Count')\n",
        "plt.show()\n"
      ],
      "metadata": {
        "colab": {
          "base_uri": "https://localhost:8080/",
          "height": 472
        },
        "id": "k4JN8HD3PTxS",
        "outputId": "15f3da91-5437-4812-919d-739d1a709854"
      },
      "execution_count": null,
      "outputs": [
        {
          "output_type": "display_data",
          "data": {
            "text/plain": [
              "<Figure size 640x480 with 1 Axes>"
            ],
            "image/png": "[encoded data removed]"
          },
          "metadata": {}
        }
      ]
    },
    {
      "cell_type": "code",
      "source": [
        "plt.figure(figsize=(10,6))\n",
        "sns.kdeplot(df.loc[df['FraudFound_P'] == 0, 'Age'], label='No Fraud', shade=True)\n",
        "sns.kdeplot(df.loc[df['FraudFound_P'] == 1, 'Age'], label='Fraud', shade=True)\n",
        "plt.title('Age Distribution by Fraud Status')\n",
        "plt.xlabel('Age')\n",
        "plt.legend()\n",
        "plt.show()\n"
      ],
      "metadata": {
        "colab": {
          "base_uri": "https://localhost:8080/",
          "height": 564
        },
        "id": "eNp6C1i5PdF_",
        "outputId": "bf16a608-b93f-49a0-f656-7dbc1991326e"
      },
      "execution_count": null,
      "outputs": [
        {
          "output_type": "display_data",
          "data": {
            "text/plain": [
              "<Figure size 1000x600 with 1 Axes>"
            ],
            "image/png": "[encoded data removed]"
          },
          "metadata": {}
        }
      ]
    },
    {
      "source": [
        "plt.figure(figsize=(12,8))\n",
        "# Select only numerical columns for correlation calculation\n",
        "numerical_df = df.select_dtypes(include=np.number)\n",
        "sns.heatmap(numerical_df.corr(), annot=True, fmt='.2f', cmap='coolwarm')\n",
        "plt.title('Correlation Matrix (Numerical Columns Only)')\n",
        "plt.show()"
      ],
      "cell_type": "code",
      "metadata": {
        "colab": {
          "base_uri": "https://localhost:8080/",
          "height": 839
        },
        "id": "i6ppYvsdPnN-",
        "outputId": "aefcc9e2-2dce-4b59-c2bb-8480400ac5af"
      },
      "execution_count": null,
      "outputs": [
        {
          "output_type": "display_data",
          "data": {
            "text/plain": [
              "<Figure size 1200x800 with 2 Axes>"
            ],
            "image/png": "[encoded data removed]"
          },
          "metadata": {}
        }
      ]
    },
    {
      "cell_type": "code",
      "source": [
        "# prompt: implement using logistic regression\n",
        "\n",
        "import numpy as np\n",
        "from sklearn.model_selection import train_test_split\n",
        "from sklearn.linear_model import LogisticRegression\n",
        "from sklearn.metrics import accuracy_score, classification_report, confusion_matrix\n",
        "from sklearn.preprocessing import StandardScaler, OneHotEncoder\n",
        "from sklearn.compose import ColumnTransformer\n",
        "from sklearn.pipeline import Pipeline\n",
        "\n",
        "# Separate target variable\n",
        "X = df.drop('FraudFound_P', axis=1)\n",
        "y = df['FraudFound_P']\n",
        "\n",
        "# Identify categorical and numerical features\n",
        "categorical_features = X.select_dtypes(include=['object', 'category']).columns\n",
        "numerical_features = X.select_dtypes(include=np.number).columns\n",
        "\n",
        "# Create preprocessing pipelines for numerical and categorical features\n",
        "numerical_transformer = StandardScaler()\n",
        "categorical_transformer = OneHotEncoder(handle_unknown='ignore') # handle_unknown='ignore' for unseen categories\n",
        "\n",
        "# Create a column transformer to apply different transformations to different columns\n",
        "preprocessor = ColumnTransformer(\n",
        "    transformers=[\n",
        "        ('num', numerical_transformer, numerical_features),\n",
        "        ('cat', categorical_transformer, categorical_features)])\n",
        "\n",
        "# Create the logistic regression model pipeline\n",
        "model = Pipeline(steps=[('preprocessor', preprocessor),\n",
        "                        ('classifier', LogisticRegression(solver='liblinear'))]) # Using 'liblinear' solver for smaller datasets\n",
        "\n",
        "# Split the data into training and testing sets\n",
        "X_train, X_test, y_train, y_test = train_test_split(X, y, test_size=0.2, random_state=42, stratify=y) # stratify to maintain proportion of target variable\n",
        "\n",
        "# Train the model\n",
        "model.fit(X_train, y_train)\n",
        "\n",
        "# Make predictions on the test set\n",
        "y_pred = model.predict(X_test)\n",
        "\n",
        "# Evaluate the model\n",
        "print(\"Accuracy:\", accuracy_score(y_test, y_pred))\n",
        "print(\"\\nClassification Report:\\n\", classification_report(y_test, y_pred))\n",
        "print(\"\\nConfusion Matrix:\\n\", confusion_matrix(y_test, y_pred))"
      ],
      "metadata": {
        "colab": {
          "base_uri": "https://localhost:8080/"
        },
        "id": "GInwB5hl0U2t",
        "outputId": "6fc3887a-454e-4e13-c344-385f1e9d70c7"
      },
      "execution_count": null,
      "outputs": [
        {
          "output_type": "stream",
          "name": "stdout",
          "text": [
            "Accuracy: 0.940337224383917\n",
            "\n",
            "Classification Report:\n",
            "               precision    recall  f1-score   support\n",
            "\n",
            "           0       0.94      1.00      0.97      2899\n",
            "           1       0.67      0.01      0.02       185\n",
            "\n",
            "    accuracy                           0.94      3084\n",
            "   macro avg       0.80      0.51      0.50      3084\n",
            "weighted avg       0.92      0.94      0.91      3084\n",
            "\n",
            "\n",
            "Confusion Matrix:\n",
            " [[2898    1]\n",
            " [ 183    2]]\n"
          ]
        }
      ]
    },
    {
      "source": [
        "from sklearn.model_selection import train_test_split\n",
        "from sklearn.ensemble import RandomForestClassifier\n",
        "from sklearn.metrics import classification_report, confusion_matrix\n",
        "import pandas as pd # Ensure pandas is imported if it wasn't in the previous cell\n",
        "\n",
        "# Load dataset (assuming 'df' is already loaded and basic cleaning is done)\n",
        "# If 'df' needs to be reloaded or is not available, uncomment and run this block:\n",
        "# path = kagglehub.dataset_download(\"shivamb/vehicle-claim-fraud-detection\") # Assuming path is still valid\n",
        "# df = pd.read_csv(path + '/fraud_oracle.csv')\n",
        "# df.replace(\"?\", pd.NA, inplace=True)\n",
        "# df.drop_duplicates(inplace=True)\n",
        "\n",
        "\n",
        "# Separate features (X) and target (y)\n",
        "X = df.drop('FraudFound_P', axis=1)\n",
        "y = df['FraudFound_P']\n",
        "\n",
        "# Identify categorical columns (object type)\n",
        "categorical_cols = X.select_dtypes(include='object').columns\n",
        "\n",
        "# Apply one-hot encoding to categorical columns\n",
        "# handle_unknown='ignore' is useful if your test set might have categories not seen in the training set\n",
        "X_encoded = pd.get_dummies(X, columns=categorical_cols, drop_first=True, dummy_na=False)\n",
        "\n",
        "# Split the encoded data\n",
        "X_train, X_test, y_train, y_test = train_test_split(X_encoded, y, test_size=0.2, random_state=42)\n",
        "\n",
        "# Now proceed with model training\n",
        "model = RandomForestClassifier(n_estimators=100, random_state=42)\n",
        "model.fit(X_train, y_train)\n",
        "\n",
        "y_pred = model.predict(X_test)\n",
        "print(classification_report(y_test, y_pred))"
      ],
      "cell_type": "code",
      "metadata": {
        "colab": {
          "base_uri": "https://localhost:8080/"
        },
        "id": "F5En1FoEOS73",
        "outputId": "e825e65a-10f9-4756-d4ec-2a8c95c628ad"
      },
      "execution_count": null,
      "outputs": [
        {
          "output_type": "stream",
          "name": "stdout",
          "text": [
            "              precision    recall  f1-score   support\n",
            "\n",
            "           0       0.94      1.00      0.97      2887\n",
            "           1       1.00      0.01      0.01       197\n",
            "\n",
            "    accuracy                           0.94      3084\n",
            "   macro avg       0.97      0.50      0.49      3084\n",
            "weighted avg       0.94      0.94      0.91      3084\n",
            "\n"
          ]
        }
      ]
    },
    {
      "source": [
        "from sklearn.model_selection import train_test_split\n",
        "from sklearn.preprocessing import StandardScaler\n",
        "from sklearn.metrics import classification_report, confusion_matrix\n",
        "from sklearn.neighbors import KNeighborsClassifier\n",
        "import pandas as pd # Ensure pandas is imported\n",
        "\n",
        "# Features and label\n",
        "X = df.drop('FraudFound_P', axis=1)\n",
        "y = df['FraudFound_P']\n",
        "\n",
        "# Identify categorical columns (object type)\n",
        "categorical_cols = X.select_dtypes(include='object').columns\n",
        "\n",
        "# Apply one-hot encoding to categorical columns\n",
        "# This converts string columns like 'Month', 'VehicleCategory', etc. into numerical columns\n",
        "X_encoded = pd.get_dummies(X, columns=categorical_cols, drop_first=True, dummy_na=False)\n",
        "\n",
        "\n",
        "# Scale features using the encoded data\n",
        "scaler = StandardScaler()\n",
        "X_scaled = scaler.fit_transform(X_encoded) # Use X_encoded instead of X\n",
        "\n",
        "# Train-test split using the scaled data\n",
        "X_train, X_test, y_train, y_test = train_test_split(X_scaled, y, test_size=0.2, random_state=42)\n",
        "\n",
        "# Now you can proceed with training your KNN model\n",
        "# For example:\n",
        "# knn_model = KNeighborsClassifier(n_neighbors=5)\n",
        "# knn_model.fit(X_train, y_train)\n",
        "# y_pred = knn_model.predict(X_test)\n",
        "# print(classification_report(y_test, y_pred))"
      ],
      "cell_type": "code",
      "metadata": {
        "id": "ufzLwmRfOuS0"
      },
      "execution_count": null,
      "outputs": []
    },
    {
      "cell_type": "code",
      "source": [
        "# KNN classifier with k=5 (you can tune it)\n",
        "knn = KNeighborsClassifier(n_neighbors=5)\n",
        "knn.fit(X_train, y_train)\n",
        "\n",
        "# Predict and evaluate\n",
        "y_pred_knn = knn.predict(X_test)\n",
        "print(confusion_matrix(y_test, y_pred_knn))\n",
        "print(classification_report(y_test, y_pred_knn))\n"
      ],
      "metadata": {
        "colab": {
          "base_uri": "https://localhost:8080/"
        },
        "id": "KdFi1TA3O2vB",
        "outputId": "d0459e5e-4adf-4980-86fa-be00efe7a719"
      },
      "execution_count": null,
      "outputs": [
        {
          "output_type": "stream",
          "name": "stdout",
          "text": [
            "[[2872   15]\n",
            " [ 192    5]]\n",
            "              precision    recall  f1-score   support\n",
            "\n",
            "           0       0.94      0.99      0.97      2887\n",
            "           1       0.25      0.03      0.05       197\n",
            "\n",
            "    accuracy                           0.93      3084\n",
            "   macro avg       0.59      0.51      0.51      3084\n",
            "weighted avg       0.89      0.93      0.91      3084\n",
            "\n"
          ]
        }
      ]
    },
    {
      "cell_type": "code",
      "source": [
        "from imblearn.over_sampling import SMOTE\n",
        "\n",
        "smote = SMOTE(random_state=42)\n",
        "X_res, y_res = smote.fit_resample(X_scaled, y)\n"
      ],
      "metadata": {
        "id": "UkJb5ELERMPS"
      },
      "execution_count": null,
      "outputs": []
    },
    {
      "cell_type": "code",
      "source": [
        "import xgboost as xgb\n",
        "from sklearn.model_selection import train_test_split\n",
        "from sklearn.metrics import classification_report, confusion_matrix, roc_auc_score\n",
        "\n",
        "# Assume df is your dataframe, with FraudFound_P as label\n",
        "X = df.drop('FraudFound_P', axis=1)\n",
        "y = df['FraudFound_P']\n",
        "\n",
        "# Convert categorical columns to numeric via one-hot encoding\n",
        "X = pd.get_dummies(X)\n",
        "\n",
        "# Train-test split\n",
        "X_train, X_test, y_train, y_test = train_test_split(X, y, test_size=0.2, random_state=42, stratify=y)\n"
      ],
      "metadata": {
        "id": "aNtFk2JLRWVy"
      },
      "execution_count": null,
      "outputs": []
    },
    {
      "cell_type": "code",
      "source": [
        "dtrain = xgb.DMatrix(X_train, label=y_train)\n",
        "dtest = xgb.DMatrix(X_test, label=y_test)\n"
      ],
      "metadata": {
        "id": "tS-Hr4V5RaAp"
      },
      "execution_count": null,
      "outputs": []
    },
    {
      "cell_type": "code",
      "source": [
        "# Calculate imbalance ratio\n",
        "scale_pos_weight = (y == 0).sum() / (y == 1).sum()\n",
        "\n",
        "params = {\n",
        "    'objective': 'binary:logistic',\n",
        "    'eval_metric': 'auc',\n",
        "    'scale_pos_weight': scale_pos_weight,\n",
        "    'eta': 0.1,\n",
        "    'max_depth': 6,\n",
        "    'subsample': 0.8,\n",
        "    'colsample_bytree': 0.8,\n",
        "    'seed': 42\n",
        "}\n"
      ],
      "metadata": {
        "id": "kMz_K3IsRfGP"
      },
      "execution_count": null,
      "outputs": []
    },
    {
      "cell_type": "code",
      "source": [
        "evals = [(dtrain, 'train'), (dtest, 'eval')]\n",
        "\n",
        "bst = xgb.train(params, dtrain, num_boost_round=1000, early_stopping_rounds=20, evals=evals, verbose_eval=10)\n"
      ],
      "metadata": {
        "colab": {
          "base_uri": "https://localhost:8080/"
        },
        "id": "1K9jkRayRlcZ",
        "outputId": "502a04ea-8bff-409d-b718-5b7db2f96cae"
      },
      "execution_count": null,
      "outputs": [
        {
          "output_type": "stream",
          "name": "stdout",
          "text": [
            "[0]\ttrain-auc:0.84237\teval-auc:0.82794\n",
            "[10]\ttrain-auc:0.88983\teval-auc:0.85079\n",
            "[20]\ttrain-auc:0.90764\teval-auc:0.85139\n",
            "[30]\ttrain-auc:0.92881\teval-auc:0.85929\n",
            "[40]\ttrain-auc:0.95670\teval-auc:0.88709\n",
            "[50]\ttrain-auc:0.97586\teval-auc:0.91024\n",
            "[60]\ttrain-auc:0.98215\teval-auc:0.91359\n",
            "[70]\ttrain-auc:0.98584\teval-auc:0.91329\n",
            "[80]\ttrain-auc:0.99118\teval-auc:0.92071\n",
            "[90]\ttrain-auc:0.99463\teval-auc:0.93539\n",
            "[100]\ttrain-auc:0.99620\teval-auc:0.94060\n",
            "[110]\ttrain-auc:0.99717\teval-auc:0.94212\n",
            "[120]\ttrain-auc:0.99818\teval-auc:0.94959\n",
            "[130]\ttrain-auc:0.99860\teval-auc:0.95332\n",
            "[140]\ttrain-auc:0.99894\teval-auc:0.95829\n",
            "[150]\ttrain-auc:0.99923\teval-auc:0.96321\n",
            "[160]\ttrain-auc:0.99944\teval-auc:0.96370\n",
            "[170]\ttrain-auc:0.99956\teval-auc:0.96412\n",
            "[180]\ttrain-auc:0.99967\teval-auc:0.96543\n",
            "[190]\ttrain-auc:0.99977\teval-auc:0.96599\n",
            "[200]\ttrain-auc:0.99982\teval-auc:0.96556\n",
            "[208]\ttrain-auc:0.99987\teval-auc:0.96589\n"
          ]
        }
      ]
    },
    {
      "cell_type": "code",
      "source": [
        "y_pred_proba = bst.predict(dtest)\n",
        "y_pred = (y_pred_proba > 0.5).astype(int)\n",
        "\n",
        "print(classification_report(y_test, y_pred))\n",
        "print(\"ROC AUC Score:\", roc_auc_score(y_test, y_pred_proba))\n"
      ],
      "metadata": {
        "colab": {
          "base_uri": "https://localhost:8080/"
        },
        "id": "R40g8fQ1Rskk",
        "outputId": "46dcd0b6-9179-40a0-ff59-ab7013e0cca4"
      },
      "execution_count": null,
      "outputs": [
        {
          "output_type": "stream",
          "name": "stdout",
          "text": [
            "              precision    recall  f1-score   support\n",
            "\n",
            "           0       0.98      0.97      0.98      2899\n",
            "           1       0.62      0.76      0.68       185\n",
            "\n",
            "    accuracy                           0.96      3084\n",
            "   macro avg       0.80      0.87      0.83      3084\n",
            "weighted avg       0.96      0.96      0.96      3084\n",
            "\n",
            "ROC AUC Score: 0.966113198400194\n"
          ]
        }
      ]
    },
    {
      "cell_type": "code",
      "source": [
        "import numpy as np\n",
        "from sklearn.metrics import precision_recall_curve\n",
        "\n",
        "precision, recall, thresholds = precision_recall_curve(y_test, y_pred_proba)\n",
        "f1_scores = 2 * (precision * recall) / (precision + recall)\n",
        "\n",
        "best_idx = np.argmax(f1_scores)\n",
        "best_threshold = thresholds[best_idx]\n",
        "\n",
        "print(f\"Best threshold for F1 score: {best_threshold}\")\n",
        "\n",
        "# Use best threshold for final prediction\n",
        "y_pred_final = (y_pred_proba > best_threshold).astype(int)\n",
        "print(classification_report(y_test, y_pred_final))\n"
      ],
      "metadata": {
        "colab": {
          "base_uri": "https://localhost:8080/"
        },
        "id": "9mrFrA1pRyI_",
        "outputId": "e82867af-8978-43fb-bdf6-4568b7ae485e"
      },
      "execution_count": null,
      "outputs": [
        {
          "output_type": "stream",
          "name": "stdout",
          "text": [
            "Best threshold for F1 score: 0.610464334487915\n",
            "              precision    recall  f1-score   support\n",
            "\n",
            "           0       0.98      0.98      0.98      2899\n",
            "           1       0.73      0.69      0.71       185\n",
            "\n",
            "    accuracy                           0.97      3084\n",
            "   macro avg       0.86      0.84      0.85      3084\n",
            "weighted avg       0.97      0.97      0.97      3084\n",
            "\n"
          ]
        }
      ]
    },
    {
      "source": [
        "import joblib\n",
        "import json\n",
        "\n",
        "# Save the trained model\n",
        "joblib.dump(bst, 'xgboost_fraud_model.pkl')\n",
        "\n",
        "# Save the threshold\n",
        "with open('best_threshold.json', 'w') as f:\n",
        "    json.dump({'threshold': float(best_threshold)}, f)"
      ],
      "cell_type": "code",
      "metadata": {
        "id": "CQSJlXNgZB73"
      },
      "execution_count": null,
      "outputs": []
    },
    {
      "cell_type": "code",
      "source": [
        "import pandas as pd\n",
        "\n",
        "# Get predicted probabilities\n",
        "y_pred_proba = bst.predict(dtest)\n",
        "\n",
        "# Apply your best threshold\n",
        "y_pred_final = (y_pred_proba > best_threshold).astype(int)\n",
        "\n",
        "# Add predictions back to your test dataframe\n",
        "df_test = X_test.copy()\n",
        "df_test['Actual'] = y_test.values\n",
        "df_test['Predicted_Prob'] = y_pred_proba\n",
        "df_test['Predicted_Label'] = y_pred_final\n"
      ],
      "metadata": {
        "id": "qwsm_gQDVtAy"
      },
      "execution_count": null,
      "outputs": []
    },
    {
      "cell_type": "code",
      "source": [
        "\n",
        "# Save test set with predictions\n",
        "df_test.to_csv(\"fraud_predictions.csv\", index=False)\n",
        "\n",
        "print(\"✅ CSV file saved as fraud_predictions.csv\")\n",
        "\n"
      ],
      "metadata": {
        "colab": {
          "base_uri": "https://localhost:8080/"
        },
        "id": "owO52UNgV_O8",
        "outputId": "bcaccaaf-7129-42bd-9065-d5790a175ad0"
      },
      "execution_count": null,
      "outputs": [
        {
          "output_type": "stream",
          "name": "stdout",
          "text": [
            "✅ CSV file saved as fraud_predictions.csv\n"
          ]
        }
      ]
    },
    {
      "cell_type": "code",
      "source": [
        "from google.colab import files\n",
        "files.download(\"fraud_predictions.csv\")\n"
      ],
      "metadata": {
        "id": "LDvvqZGaWRJT",
        "outputId": "490928a9-fd74-42ad-c6f4-6af5d079f3af",
        "colab": {
          "base_uri": "https://localhost:8080/",
          "height": 17
        }
      },
      "execution_count": null,
      "outputs": [
        {
          "output_type": "display_data",
          "data": {
            "text/plain": [
              "<IPython.core.display.Javascript object>"
            ],
            "application/javascript": [
              "\n",
              "    async function download(id, filename, size) {\n",
              "      if (!google.colab.kernel.accessAllowed) {\n",
              "        return;\n",
              "      }\n",
              "      const div = document.createElement('div');\n",
              "      const label = document.createElement('label');\n",
              "      label.textContent = `Downloading \"${filename}\": `;\n",
              "      div.appendChild(label);\n",
              "      const progress = document.createElement('progress');\n",
              "      progress.max = size;\n",
              "      div.appendChild(progress);\n",
              "      document.body.appendChild(div);\n",
              "\n",
              "      const buffers = [];\n",
              "      let downloaded = 0;\n",
              "\n",
              "      const channel = await google.colab.kernel.comms.open(id);\n",
              "      // Send a message to notify the kernel that we're ready.\n",
              "      channel.send({})\n",
              "\n",
              "      for await (const message of channel.messages) {\n",
              "        // Send a message to notify the kernel that we're ready.\n",
              "        channel.send({})\n",
              "        if (message.buffers) {\n",
              "          for (const buffer of message.buffers) {\n",
              "            buffers.push(buffer);\n",
              "            downloaded += buffer.byteLength;\n",
              "            progress.value = downloaded;\n",
              "          }\n",
              "        }\n",
              "      }\n",
              "      const blob = new Blob(buffers, {type: 'application/binary'});\n",
              "      const a = document.createElement('a');\n",
              "      a.href = window.URL.createObjectURL(blob);\n",
              "      a.download = filename;\n",
              "      div.appendChild(a);\n",
              "      a.click();\n",
              "      div.remove();\n",
              "    }\n",
              "  "
            ]
          },
          "metadata": {}
        },
        {
          "output_type": "display_data",
          "data": {
            "text/plain": [
              "<IPython.core.display.Javascript object>"
            ],
            "application/javascript": [
              "download(\"download_38097202-7318-4cd0-89e7-a098fa382891\", \"fraud_predictions.csv\", 2648313)"
            ]
          },
          "metadata": {}
        }
      ]
    }
  ]
}